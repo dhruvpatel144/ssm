{
 "nbformat": 4,
 "nbformat_minor": 0,
 "metadata": {
  "colab": {
   "name": "HMM_Sampling_Discrete_State.ipynb",
   "provenance": [],
   "collapsed_sections": []
  },
  "kernelspec": {
   "name": "python3",
   "display_name": "Python 3"
  },
  "language_info": {
   "name": "python"
  }
 },
 "cells": [
  {
   "cell_type": "code",
   "execution_count": null,
   "metadata": {
    "id": "ydIbmLpIKNNQ",
    "colab": {
     "base_uri": "https://localhost:8080/"
    },
    "outputId": "7f9df77a-5af6-4c3b-89b8-c2daf6c43f11"
   },
   "outputs": [
    {
     "output_type": "stream",
     "name": "stdout",
     "text": [
      "\u001b[K     |████████████████████████████████| 272 kB 25.8 MB/s \n",
      "\u001b[K     |████████████████████████████████| 72 kB 674 kB/s \n",
      "\u001b[?25h  Installing build dependencies ... \u001b[?25l\u001b[?25hdone\n",
      "  Getting requirements to build wheel ... \u001b[?25l\u001b[?25hdone\n",
      "    Preparing wheel metadata ... \u001b[?25l\u001b[?25hdone\n",
      "\u001b[K     |████████████████████████████████| 88 kB 8.4 MB/s \n",
      "\u001b[K     |████████████████████████████████| 1.1 MB 50.3 MB/s \n",
      "\u001b[?25h  Building wheel for ssm (PEP 517) ... \u001b[?25l\u001b[?25hdone\n",
      "  Building wheel for TexSoup (setup.py) ... \u001b[?25l\u001b[?25hdone\n",
      "  Building wheel for umap-learn (setup.py) ... \u001b[?25l\u001b[?25hdone\n",
      "  Building wheel for pynndescent (setup.py) ... \u001b[?25l\u001b[?25hdone\n"
     ]
    }
   ],
   "source": [
    "try:\n",
    "    import jax\n",
    "except:\n",
    "    %pip install -qq jax\n",
    "    import jax\n",
    "\n",
    "try:\n",
    "    import distrax\n",
    "except:\n",
    "    %pip install -qq distrax\n",
    "    import distrax\n",
    "\n",
    "try:\n",
    "    import matplotlib.pyplot as plt\n",
    "except:\n",
    "    %pip install -qq matplotlib.pyplot\n",
    "    import matplotlib.pyplot as plt\n",
    "\n",
    "try:\n",
    "    from ssm import first_state, next_state, out, hmm\n",
    "except:\n",
    "    %pip install -qq git+https://github.com/dhruvpatel144/ssm.git\n",
    "    from ssm import first_state, next_state, out, hmm"
   ]
  },
  {
   "cell_type": "code",
   "source": [
    "l = 100  # length of chain\n",
    "n = 1  # number of samples\n",
    "k = 2  # number of states in sample\n",
    "p = 6  # possible outcomes\n",
    "pi = jax.numpy.array([0.67, 0.33])  # prior matrix of k\n",
    "A = jax.numpy.array([[0.9, 0.1], [0.3, 0.7]])  # transition matrix of k*k\n",
    "B = jax.numpy.array(\n",
    "    [[0.1666, 0.1666, 0.1666, 0.1666, 0.1666, 0.167], [0.1, 0.1, 0.1, 0.1, 0.1, 0.5]]\n",
    ")  # emission matrix of k*p"
   ],
   "metadata": {
    "id": "HjIgyIV_KO9P",
    "colab": {
     "base_uri": "https://localhost:8080/"
    },
    "outputId": "378b471a-c249-43f3-b00a-322d89ff1f32"
   },
   "execution_count": null,
   "outputs": [
    {
     "output_type": "stream",
     "name": "stderr",
     "text": [
      "WARNING:absl:No GPU/TPU found, falling back to CPU. (Set TF_CPP_MIN_LOG_LEVEL=0 and rerun for more info.)\n"
     ]
    }
   ]
  },
  {
   "cell_type": "code",
   "source": [
    "# sequence of probabilities for the next state and and the observation (generated from a normal distribution)\n",
    "key = jax.random.PRNGKey(6)\n",
    "x = jax.random.uniform(key=key, shape=(l,))\n",
    "key = jax.random.PRNGKey(5)\n",
    "y = jax.random.uniform(key=key, shape=(l,))"
   ],
   "metadata": {
    "id": "AVK7B-SKUPU8"
   },
   "execution_count": null,
   "outputs": []
  },
  {
   "cell_type": "code",
   "source": [
    "for i in range(n):\n",
    "    sample, outcome = hmm(A, B, pi, x, y, p, k, l)\n",
    "    print(sample)\n",
    "    print(outcome)"
   ],
   "metadata": {
    "id": "OPgOTxI7KYOy",
    "colab": {
     "base_uri": "https://localhost:8080/"
    },
    "outputId": "a1f0d007-752e-46db-ff38-cbdd7836b898"
   },
   "execution_count": null,
   "outputs": [
    {
     "output_type": "stream",
     "name": "stdout",
     "text": [
      "[1. 0. 0. 0. 0. 0. 0. 0. 0. 0. 0. 0. 0. 0. 1. 1. 0. 1. 1. 1. 1. 0. 0. 0.\n",
      " 1. 1. 0. 0. 0. 0. 0. 0. 0. 0. 0. 0. 0. 0. 0. 0. 0. 0. 0. 0. 0. 0. 0. 0.\n",
      " 0. 0. 0. 0. 1. 1. 1. 1. 0. 0. 0. 0. 0. 0. 1. 1. 1. 1. 1. 1. 0. 0. 0. 0.\n",
      " 1. 1. 1. 1. 1. 1. 1. 1. 0. 0. 0. 0. 0. 0. 0. 0. 0. 0. 1. 1. 1. 0. 0. 1.\n",
      " 1. 0. 0. 0.]\n",
      "[5. 5. 2. 4. 4. 4. 1. 2. 5. 4. 3. 3. 4. 0. 0. 5. 3. 5. 5. 1. 4. 0. 1. 1.\n",
      " 3. 4. 1. 3. 5. 1. 3. 4. 1. 4. 4. 4. 1. 2. 5. 3. 3. 3. 3. 1. 1. 5. 5. 5.\n",
      " 5. 0. 1. 4. 1. 5. 5. 5. 5. 4. 2. 5. 2. 1. 3. 4. 2. 5. 0. 5. 5. 2. 4. 5.\n",
      " 0. 2. 2. 0. 3. 5. 5. 3. 5. 4. 1. 2. 3. 4. 4. 0. 0. 2. 5. 5. 0. 2. 2. 2.\n",
      " 3. 4. 3. 5.]\n"
     ]
    }
   ]
  },
  {
   "cell_type": "code",
   "source": [
    "observed_tuple = [[] for i in range(p)]\n",
    "for i in range(l):\n",
    "    observed_tuple[int(outcome[i])].append(tuple([i, 1]))\n",
    "for i in range(p):\n",
    "    plt.broken_barh(observed_tuple[i], (i + 0.5, 1), facecolors=\"tab:blue\")\n",
    "plt.show()"
   ],
   "metadata": {
    "id": "Q2mc8We0KbPg",
    "colab": {
     "base_uri": "https://localhost:8080/",
     "height": 265
    },
    "outputId": "ea1466ab-6db5-4bf4-a775-0cc492b01a33"
   },
   "execution_count": null,
   "outputs": [
    {
     "output_type": "display_data",
     "data": {
      "text/plain": [
       "<Figure size 432x288 with 1 Axes>"
      ],
      "image/png": "[encoded data removed]"
     },
     "metadata": {
      "needs_background": "light"
     }
    }
   ]
  }
 ]
}