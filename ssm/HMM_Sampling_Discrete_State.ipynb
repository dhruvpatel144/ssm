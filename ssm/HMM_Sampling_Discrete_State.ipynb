{
<<<<<<< HEAD:ssm/HMM_Sampling_discreteState.ipynb
 "nbformat": 4,
 "nbformat_minor": 0,
 "metadata": {
  "colab": {
   "name": " HMM_Sampling.ipynb",
   "provenance": []
  },
  "kernelspec": {
   "name": "python3",
   "display_name": "Python 3"
  },
  "language_info": {
   "name": "python"
  }
 },
 "cells": [
  {
   "cell_type": "code",
   "execution_count": 6,
   "metadata": {
    "id": "jxRGHQWWXnrm"
   },
   "outputs": [],
   "source": [
    "try:\n",
    "  import jax\n",
    "except:\n",
    "  %pip install -qq jax\n",
    "  import jax\n",
    "\n",
    "try:\n",
    "  import distrax\n",
    "except:\n",
    "  %pip install -qq distrax\n",
    "  import distrax\n",
    "\n",
    "try:\n",
    "  import matplotlib.pyplot as plt\n",
    "except:\n",
    "  %pip install -qq matplotlib.pyplot\n",
    "  import matplotlib.pyplot as plt\n",
    "\n",
    "try:\n",
    "  from ssm import first_state, next_state, out, hmm\n",
    "except:\n",
    "  %pip install -qq git+https://github.com/dhruvpatel144/ssm.git\n",
    "  from ssm import first_state, next_state, out, hmm\n",
    "\n",
    "\n",
    "\n",
    "\n",
    "\n",
    "    \n",
    "\n",
    "\n"
   ]
  },
  {
   "cell_type": "code",
   "source": [
    "l = 100  # length of chain\n",
    "n = 1  # number of samples\n",
    "k = 2  # number of states in sample\n",
    "p = 6  # possible outcomes\n",
    "pi = jax.numpy.array([0.67, 0.33])  # prior matrix of k\n",
    "A = jax.numpy.array([[0.95, 0.05], [0.1, 0.9]])  # transition matrix of k*k\n",
    "B = jax.numpy.array(\n",
    "    [[0.1666, 0.1666, 0.1666, 0.1666, 0.166, 0.166], [0.1, 0.1, 0.1, 0.1, 0.1, 0.5]]\n",
    ")  # emission matrix of k*p"
   ],
   "metadata": {
    "id": "DY8714bIYEWl"
   },
   "execution_count": 7,
   "outputs": []
  },
  {
   "cell_type": "code",
   "source": [
    "# sequence of probabilities for the next state and and the observation (generated from a normal distribution)\n",
    "key = jax.random.PRNGKey(6)\n",
    "mu = 0.5\n",
    "sigma = 0.7\n",
    "observation = distrax.Normal(loc=mu, scale=sigma)\n",
    "dataset1 = observation.sample(seed=key, sample_shape=(l,))\n",
    "x = observation.prob(dataset1)\n",
    "\n",
    "key = jax.random.PRNGKey(5)\n",
    "mu = 0.3\n",
    "sigma = 0.7\n",
    "observation = distrax.Normal(loc=mu, scale=sigma)\n",
    "dataset1 = observation.sample(seed=key, sample_shape=(l,))\n",
    "y = observation.prob(dataset1)\n",
    "\n",
    "# creating an array to store the next state and outcome of that state\n",
    "sample = jax.numpy.empty(l)\n",
    "outcome = jax.numpy.empty(l)"
   ],
   "metadata": {
    "id": "O4lTgt3kQYrl"
   },
   "execution_count": 8,
   "outputs": []
  },
  {
   "cell_type": "code",
   "source": [
    "for i in range(n):\n",
    "    sample, outcome = hmm(A, B, pi, x, y, sample, outcome, p, k, l)\n",
    "    print(sample)\n",
    "    print(outcome)"
   ],
   "metadata": {
    "id": "qife1QhDQkPJ",
    "colab": {
     "base_uri": "https://localhost:8080/"
=======
  "nbformat": 4,
  "nbformat_minor": 0,
  "metadata": {
    "colab": {
      "name": "HMM_Sampling_Discrete_State.ipynb",
      "provenance": [],
      "collapsed_sections": []
    },
    "kernelspec": {
      "name": "python3",
      "display_name": "Python 3"
    },
    "language_info": {
      "name": "python"
    }
  },
  "cells": [
    {
      "cell_type": "code",
      "execution_count": null,
      "metadata": {
        "id": "ydIbmLpIKNNQ"
      },
      "outputs": [],
      "source": [
        "try:\n",
        "  import jax\n",
        "except:\n",
        "  %pip install -qq jax\n",
        "  import jax\n",
        "\n",
        "try:\n",
        "  import distrax\n",
        "except:\n",
        "  %pip install -qq distrax\n",
        "  import distrax\n",
        "\n",
        "try:\n",
        "  import matplotlib.pyplot as plt\n",
        "except:\n",
        "  %pip install -qq matplotlib.pyplot\n",
        "  import matplotlib.pyplot as plt\n",
        "\n",
        "try:\n",
        "  from ssm import first_state, next_state, out, hmm\n",
        "except:\n",
        "  %pip install -qq git+https://github.com/dhruvpatel144/ssm.git\n",
        "  from ssm import first_state, next_state, out, hmm"
      ]
>>>>>>> 35944e8fa47cabe8a5514934466439da71f4a339:ssm/HMM_Sampling_Discrete_State.ipynb
    },
    "outputId": "dd4ec076-758a-4147-970c-2e77fd90f537"
   },
   "execution_count": 9,
   "outputs": [
    {
<<<<<<< HEAD:ssm/HMM_Sampling_discreteState.ipynb
     "output_type": "stream",
     "name": "stdout",
     "text": [
      "[1. 1. 1. 1. 1. 1. 1. 1. 1. 1. 1. 1. 1. 1. 1. 1. 1. 1. 1. 1. 1. 1. 1. 1.\n",
      " 1. 1. 1. 1. 1. 1. 1. 1. 1. 1. 1. 1. 1. 1. 1. 1. 1. 1. 1. 1. 1. 1. 1. 1.\n",
      " 1. 1. 1. 1. 1. 1. 1. 1. 1. 1. 1. 1. 1. 1. 1. 1. 1. 1. 1. 1. 1. 1. 1. 1.\n",
      " 1. 1. 1. 1. 1. 1. 1. 1. 1. 1. 1. 1. 1. 1. 1. 1. 1. 1. 1. 1. 0. 0. 0. 0.\n",
      " 0. 0. 0. 0.]\n",
      "[1. 1. 5. 4. 3. 5. 3. 5. 0. 4. 5. 5. 5. 3. 1. 5. 5. 2. 5. 3. 5. 2. 4. 4.\n",
      " 5. 5. 4. 5. 0. 4. 5. 4. 4. 4. 4. 4. 4. 5. 1. 5. 5. 5. 5. 3. 3. 2. 3. 0.\n",
      " 2. 0. 4. 4. 3. 3. 5. 1. 0. 4. 5. 3. 5. 5. 5. 5. 4. 3. 1. 5. 1. 5. 4. 2.\n",
      " 0. 4. 4. 0. 5. 5. 3. 5. 0. 4. 4. 5. 5. 4. 4. 2. 1. 5. 5. 4. 0. 3. 3. 2.\n",
      " 3. 2. 3. 0.]\n"
     ]
    }
   ]
  },
  {
   "cell_type": "code",
   "source": [
    "observed_tuple = [[] for i in range(p)]\n",
    "for i in range(l):\n",
    "    observed_tuple[int(outcome[i])].append(tuple([i, 1]))\n",
    "for i in range(p):\n",
    "    plt.broken_barh(observed_tuple[i], (i + 0.5, 1), facecolors=\"tab:blue\")\n",
    "plt.show()"
   ],
   "metadata": {
    "id": "c7lQpzh6qMWl",
    "colab": {
     "base_uri": "https://localhost:8080/",
     "height": 265
    },
    "outputId": "b61bda66-779b-4696-9ada-38dc7a75d77c"
   },
   "execution_count": 10,
   "outputs": [
    {
     "output_type": "display_data",
     "data": {
      "text/plain": [
       "<Figure size 432x288 with 1 Axes>"
      ],
      "image/png": "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\n"
     },
     "metadata": {
      "needs_background": "light"
     }
    }
   ]
  },
  {
   "cell_type": "code",
   "source": [
    ""
   ],
   "metadata": {
    "id": "E9vjcKsgnK6t"
   },
   "execution_count": 10,
   "outputs": []
  }
 ]
=======
      "cell_type": "code",
      "source": [
        "l = 100  # length of chain\n",
        "n = 1  # number of samples\n",
        "k = 2  # number of states in sample\n",
        "p = 6  # possible outcomes\n",
        "pi = jax.numpy.array([0.67, 0.33])  # prior matrix of k\n",
        "A = jax.numpy.array([[0.95, 0.05], [0.1, 0.9]])  # transition matrix of k*k\n",
        "B = jax.numpy.array(\n",
        "    [[0.1666, 0.1666, 0.1666, 0.1666, 0.166, 0.166], [0.1, 0.1, 0.1, 0.1, 0.1, 0.5]]\n",
        ")  # emission matrix of k*p\n"
      ],
      "metadata": {
        "id": "HjIgyIV_KO9P"
      },
      "execution_count": null,
      "outputs": []
    },
    {
      "cell_type": "code",
      "source": [
        "# sequence of probabilities for the next state and and the observation (generated from a normal distribution)\n",
        "key = jax.random.PRNGKey(6)\n",
        "mu = 0.5\n",
        "sigma = 0.7\n",
        "observation = distrax.Normal(loc=mu, scale=sigma)\n",
        "dataset1 = observation.sample(seed=key, sample_shape=(l,))\n",
        "x = observation.prob(dataset1)\n",
        "\n",
        "key = jax.random.PRNGKey(5)\n",
        "mu = 0.3\n",
        "sigma = 0.7\n",
        "observation = distrax.Normal(loc=mu, scale=sigma)\n",
        "dataset1 = observation.sample(seed=key, sample_shape=(l,))\n",
        "y = observation.prob(dataset1)\n",
        "\n",
        "# creating an array to store the next state and outcome of that state\n",
        "sample = jax.numpy.empty(l)\n",
        "outcome = jax.numpy.empty(l)\n"
      ],
      "metadata": {
        "id": "HsIZqcp8KWY9"
      },
      "execution_count": 3,
      "outputs": []
    },
    {
      "cell_type": "code",
      "source": [
        "for i in range(n):\n",
        "    sample, outcome = hmm(A, B, pi, x, y, sample, outcome, p, k, l)\n",
        "    print(sample)\n",
        "    print(outcome)\n"
      ],
      "metadata": {
        "colab": {
          "base_uri": "https://localhost:8080/"
        },
        "id": "OPgOTxI7KYOy",
        "outputId": "2f2d2a9a-1d07-4e35-a1d3-2a9f8b079158"
      },
      "execution_count": 4,
      "outputs": [
        {
          "output_type": "stream",
          "name": "stdout",
          "text": [
            "[1. 1. 1. 1. 1. 1. 1. 1. 1. 1. 1. 1. 1. 1. 1. 1. 1. 1. 1. 1. 1. 1. 1. 1.\n",
            " 1. 1. 1. 1. 1. 1. 1. 1. 1. 1. 1. 1. 1. 1. 1. 1. 1. 1. 1. 1. 1. 1. 1. 1.\n",
            " 1. 1. 1. 1. 1. 1. 1. 1. 1. 1. 1. 1. 1. 1. 1. 1. 1. 1. 1. 1. 1. 1. 1. 1.\n",
            " 1. 1. 1. 1. 1. 1. 1. 1. 1. 1. 1. 1. 1. 1. 1. 1. 1. 1. 1. 1. 0. 0. 0. 0.\n",
            " 0. 0. 0. 0.]\n",
            "[1. 1. 5. 4. 3. 5. 3. 5. 0. 4. 5. 5. 5. 3. 1. 5. 5. 2. 5. 3. 5. 2. 4. 4.\n",
            " 5. 5. 4. 5. 0. 4. 5. 4. 4. 4. 4. 4. 4. 5. 1. 5. 5. 5. 5. 3. 3. 2. 3. 0.\n",
            " 2. 0. 4. 4. 3. 3. 5. 1. 0. 4. 5. 3. 5. 5. 5. 5. 4. 3. 1. 5. 1. 5. 4. 2.\n",
            " 0. 4. 4. 0. 5. 5. 3. 5. 0. 4. 4. 5. 5. 4. 4. 2. 1. 5. 5. 4. 0. 3. 3. 2.\n",
            " 3. 2. 3. 0.]\n"
          ]
        }
      ]
    },
    {
      "cell_type": "code",
      "source": [
        "observed_tuple = [[] for i in range(p)]\n",
        "for i in range(l):\n",
        "    observed_tuple[int(outcome[i])].append(tuple([i, 1]))\n",
        "for i in range(p):\n",
        "    plt.broken_barh(observed_tuple[i], (i + 0.5, 1), facecolors=\"tab:blue\")\n",
        "plt.show()\n"
      ],
      "metadata": {
        "colab": {
          "base_uri": "https://localhost:8080/",
          "height": 265
        },
        "id": "Q2mc8We0KbPg",
        "outputId": "a8a8452c-fad3-4c02-b700-b968f958c6a8"
      },
      "execution_count": 5,
      "outputs": [
        {
          "output_type": "display_data",
          "data": {
            "text/plain": [
              "<Figure size 432x288 with 1 Axes>"
            ],
            "image/png": "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\n"
          },
          "metadata": {
            "needs_background": "light"
          }
        }
      ]
    }
  ]
>>>>>>> 35944e8fa47cabe8a5514934466439da71f4a339:ssm/HMM_Sampling_Discrete_State.ipynb
}