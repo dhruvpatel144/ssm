{
 "nbformat": 4,
 "nbformat_minor": 0,
 "metadata": {
  "colab": {
   "name": " HMM_Sampling.ipynb",
   "provenance": []
  },
  "kernelspec": {
   "name": "python3",
   "display_name": "Python 3"
  },
  "language_info": {
   "name": "python"
  },
  "accelerator": "GPU"
 },
 "cells": [
  {
   "cell_type": "code",
   "execution_count": 1,
   "metadata": {
    "id": "jxRGHQWWXnrm",
    "colab": {
     "base_uri": "https://localhost:8080/"
    },
    "outputId": "05082c88-4cf9-43fc-8446-e4f7cb84e980"
   },
   "outputs": [
    {
     "output_type": "stream",
     "name": "stdout",
     "text": [
      "\u001b[?25l\r\u001b[K     |█▏                              | 10 kB 17.4 MB/s eta 0:00:01\r\u001b[K     |██▍                             | 20 kB 19.5 MB/s eta 0:00:01\r\u001b[K     |███▋                            | 30 kB 22.6 MB/s eta 0:00:01\r\u001b[K     |████▉                           | 40 kB 24.5 MB/s eta 0:00:01\r\u001b[K     |██████                          | 51 kB 16.6 MB/s eta 0:00:01\r\u001b[K     |███████▎                        | 61 kB 18.6 MB/s eta 0:00:01\r\u001b[K     |████████▍                       | 71 kB 16.6 MB/s eta 0:00:01\r\u001b[K     |█████████▋                      | 81 kB 17.2 MB/s eta 0:00:01\r\u001b[K     |██████████▉                     | 92 kB 18.1 MB/s eta 0:00:01\r\u001b[K     |████████████                    | 102 kB 16.0 MB/s eta 0:00:01\r\u001b[K     |█████████████▎                  | 112 kB 16.0 MB/s eta 0:00:01\r\u001b[K     |██████████████▌                 | 122 kB 16.0 MB/s eta 0:00:01\r\u001b[K     |███████████████▋                | 133 kB 16.0 MB/s eta 0:00:01\r\u001b[K     |████████████████▉               | 143 kB 16.0 MB/s eta 0:00:01\r\u001b[K     |██████████████████              | 153 kB 16.0 MB/s eta 0:00:01\r\u001b[K     |███████████████████▎            | 163 kB 16.0 MB/s eta 0:00:01\r\u001b[K     |████████████████████▌           | 174 kB 16.0 MB/s eta 0:00:01\r\u001b[K     |█████████████████████▊          | 184 kB 16.0 MB/s eta 0:00:01\r\u001b[K     |███████████████████████         | 194 kB 16.0 MB/s eta 0:00:01\r\u001b[K     |████████████████████████        | 204 kB 16.0 MB/s eta 0:00:01\r\u001b[K     |█████████████████████████▎      | 215 kB 16.0 MB/s eta 0:00:01\r\u001b[K     |██████████████████████████▌     | 225 kB 16.0 MB/s eta 0:00:01\r\u001b[K     |███████████████████████████▊    | 235 kB 16.0 MB/s eta 0:00:01\r\u001b[K     |█████████████████████████████   | 245 kB 16.0 MB/s eta 0:00:01\r\u001b[K     |██████████████████████████████▏ | 256 kB 16.0 MB/s eta 0:00:01\r\u001b[K     |███████████████████████████████▎| 266 kB 16.0 MB/s eta 0:00:01\r\u001b[K     |████████████████████████████████| 272 kB 16.0 MB/s \n",
      "\u001b[?25h\u001b[?25l\r\u001b[K     |████▌                           | 10 kB 23.7 MB/s eta 0:00:01\r\u001b[K     |█████████                       | 20 kB 30.2 MB/s eta 0:00:01\r\u001b[K     |█████████████▋                  | 30 kB 36.7 MB/s eta 0:00:01\r\u001b[K     |██████████████████▏             | 40 kB 41.0 MB/s eta 0:00:01\r\u001b[K     |██████████████████████▊         | 51 kB 42.9 MB/s eta 0:00:01\r\u001b[K     |███████████████████████████▎    | 61 kB 46.4 MB/s eta 0:00:01\r\u001b[K     |███████████████████████████████▉| 71 kB 47.7 MB/s eta 0:00:01\r\u001b[K     |████████████████████████████████| 72 kB 549 kB/s \n",
      "\u001b[?25h  Installing build dependencies ... \u001b[?25l\u001b[?25hdone\n",
      "  Getting requirements to build wheel ... \u001b[?25l\u001b[?25hdone\n",
      "    Preparing wheel metadata ... \u001b[?25l\u001b[?25hdone\n",
      "\u001b[K     |████████████████████████████████| 88 kB 6.2 MB/s \n",
      "\u001b[K     |████████████████████████████████| 1.1 MB 40.3 MB/s \n",
      "\u001b[?25h  Building wheel for ssm (PEP 517) ... \u001b[?25l\u001b[?25hdone\n",
      "  Building wheel for TexSoup (setup.py) ... \u001b[?25l\u001b[?25hdone\n",
      "  Building wheel for umap-learn (setup.py) ... \u001b[?25l\u001b[?25hdone\n",
      "  Building wheel for pynndescent (setup.py) ... \u001b[?25l\u001b[?25hdone\n"
     ]
    }
   ],
   "source": [
    "try:\n",
    "  import jax\n",
    "except:\n",
    "  %pip install -qq jax\n",
    "  import jax\n",
    "\n",
    "try:\n",
    "  import distrax\n",
    "except:\n",
    "  %pip install -qq distrax\n",
    "  import distrax\n",
    "\n",
    "try:\n",
    "  import matplotlib.pyplot as plt\n",
    "except:\n",
    "  %pip install -qq matplotlib.pyplot\n",
    "  import matplotlib.pyplot as plt\n",
    "\n",
    "try:\n",
    "  from ssm import first_state, next_state, out, hmm\n",
    "except:\n",
    "  %pip install -qq git+https://github.com/dhruvpatel144/ssm.git\n",
    "  from ssm import first_state, next_state, out, hmm\n",
    "\n",
    "\n",
    "\n",
    "\n",
    "\n",
    "    \n",
    "\n",
    "\n"
   ]
  },
  {
   "cell_type": "code",
   "source": [
    "l = 100  # length of chain\n",
    "n = 1  # number of samples\n",
    "k = 2  # number of states in sample\n",
    "p = 6  # possible outcomes\n",
    "pi = jax.numpy.array([0.67, 0.33])  # prior matrix of k\n",
    "A = jax.numpy.array([[0.4, 0.6], [0.1, 0.9]])  # transition matrix of k*k\n",
    "B = jax.numpy.array(\n",
    "    [[0.1666, 0.1666, 0.1666, 0.1666, 0.166, 0.166], [0.1, 0.1, 0.1, 0.1, 0.1, 0.5]]\n",
    ")  # emission matrix of k*p"
   ],
   "metadata": {
    "id": "DY8714bIYEWl",
    "colab": {
     "base_uri": "https://localhost:8080/"
    },
    "outputId": "2dcee78d-f257-4945-b793-7bd66e43f1a6"
   },
   "execution_count": 2,
   "outputs": [
    {
     "output_type": "stream",
     "name": "stderr",
     "text": [
      "WARNING:absl:No GPU/TPU found, falling back to CPU. (Set TF_CPP_MIN_LOG_LEVEL=0 and rerun for more info.)\n"
     ]
    }
   ]
  },
  {
   "cell_type": "code",
   "source": [
    "# sequence of probabilities for the next state and and the observation (generated from a normal distribution)\n",
    "key = jax.random.PRNGKey(6)\n",
    "mu = 0\n",
    "sigma = 0.98\n",
    "observation = distrax.Uniform(mu, sigma)\n",
    "x = observation.sample(seed=key, sample_shape=(l,))\n",
    "print(x)\n",
    "\n",
    "\n",
    "key = jax.random.PRNGKey(5)\n",
    "mu = 0\n",
    "sigma = 0.8\n",
    "observation = distrax.Uniform(mu, sigma)\n",
    "y = observation.sample(seed=key, sample_shape=(l,))\n",
    "\n",
    "\n",
    "# creating an array to store the next state and outcome of that state"
   ],
   "metadata": {
    "id": "O4lTgt3kQYrl",
    "colab": {
     "base_uri": "https://localhost:8080/"
    },
    "outputId": "6efcb7a5-91f2-422f-ca53-df7658f9f30f"
   },
   "execution_count": 3,
   "outputs": [
    {
     "output_type": "stream",
     "name": "stderr",
     "text": [
      "/usr/local/lib/python3.7/dist-packages/jax/_src/numpy/lax_numpy.py:4457: UserWarning: Explicitly requested dtype <class 'jax.numpy.float64'> requested in astype is not available, and will be truncated to dtype float32. To enable more dtypes, set the jax_enable_x64 configuration option or the JAX_ENABLE_X64 shell environment variable. See https://github.com/google/jax#current-gotchas for more.\n",
      "  lax_internal._check_user_dtype_supported(dtype, \"astype\")\n"
     ]
    },
    {
     "output_type": "stream",
     "name": "stdout",
     "text": [
      "[0.24438399 0.06105724 0.8234651  0.4792103  0.37952307 0.39147812\n",
      " 0.6487624  0.8489719  0.04129347 0.59783113 0.5038642  0.6708865\n",
      " 0.29088786 0.8777615  0.90692556 0.877122   0.01961178 0.9069325\n",
      " 0.6467606  0.5924094  0.34160784 0.16260992 0.3109055  0.80378664\n",
      " 0.8915508  0.8553665  0.10463744 0.16595708 0.5372745  0.14448076\n",
      " 0.781345   0.5619341  0.6409216  0.8503834  0.15890154 0.4812733\n",
      " 0.3199057  0.5585283  0.31867984 0.57308286 0.25617245 0.7600264\n",
      " 0.03514228 0.32306033 0.11209731 0.42637366 0.79613423 0.74596256\n",
      " 0.496263   0.38168958 0.10315295 0.20513742 0.92052317 0.8067102\n",
      " 0.3575138  0.8765251  0.21726958 0.4193319  0.37915856 0.21424533\n",
      " 0.75070995 0.10408054 0.89747596 0.47833198 0.38014936 0.316727\n",
      " 0.5545349  0.7219593  0.20273244 0.27969798 0.79220796 0.71622074\n",
      " 0.9199505  0.34110945 0.71861726 0.76891303 0.78522396 0.6920595\n",
      " 0.492987   0.41579738 0.13067122 0.69872206 0.34045127 0.7932652\n",
      " 0.2358054  0.28603575 0.1427125  0.8654972  0.1234512  0.7565109\n",
      " 0.8871659  0.94707346 0.9713614  0.05531821 0.71749926 0.91513103\n",
      " 0.7140305  0.26641008 0.03556565 0.522813  ]\n"
     ]
    }
   ]
  },
  {
   "cell_type": "code",
   "source": [
    "for i in range(n):\n",
    "    sample, outcome = hmm(A, B, pi, x, y, p, k, l)\n",
    "    print(sample)\n",
    "    print(outcome)"
   ],
   "metadata": {
    "id": "qife1QhDQkPJ",
    "colab": {
     "base_uri": "https://localhost:8080/"
    },
    "outputId": "4e400385-cb77-4ab1-d6b4-19ab7f72806d"
   },
   "execution_count": 4,
   "outputs": [
    {
     "output_type": "stream",
     "name": "stdout",
     "text": [
      "[1. 0. 1. 1. 1. 1. 1. 1. 0. 1. 1. 1. 1. 1. 1. 1. 0. 1. 1. 1. 1. 1. 1. 1.\n",
      " 1. 1. 1. 1. 1. 1. 1. 1. 1. 1. 1. 1. 1. 1. 1. 1. 1. 1. 0. 0. 0. 1. 1. 1.\n",
      " 1. 1. 1. 1. 1. 1. 1. 1. 1. 1. 1. 1. 1. 1. 1. 1. 1. 1. 1. 1. 1. 1. 1. 1.\n",
      " 1. 1. 1. 1. 1. 1. 1. 1. 1. 1. 1. 1. 1. 1. 1. 1. 1. 1. 1. 1. 1. 0. 1. 1.\n",
      " 1. 1. 0. 1.]\n",
      "[5. 4. 3. 5. 5. 5. 1. 3. 4. 5. 4. 4. 5. 1. 0. 4. 2. 5. 5. 1. 3. 0. 2. 1.\n",
      " 2. 3. 1. 5. 5. 1. 4. 5. 1. 5. 5. 5. 2. 3. 5. 4. 4. 4. 2. 0. 0. 5. 5. 5.\n",
      " 5. 0. 1. 5. 1. 5. 4. 5. 5. 5. 3. 5. 3. 2. 3. 3. 2. 5. 0. 4. 5. 3. 5. 5.\n",
      " 0. 1. 2. 0. 2. 4. 5. 2. 5. 5. 2. 3. 5. 5. 5. 0. 0. 3. 5. 5. 0. 1. 3. 1.\n",
      " 2. 5. 2. 5.]\n"
     ]
    }
   ]
  },
  {
   "cell_type": "code",
   "source": [
    "observed_tuple = [[] for i in range(p)]\n",
    "for i in range(l):\n",
    "    observed_tuple[int(outcome[i])].append(tuple([i, 1]))\n",
    "for i in range(p):\n",
    "    plt.broken_barh(observed_tuple[i], (i + 0.5, 1), facecolors=\"tab:blue\")\n",
    "plt.show()"
   ],
   "metadata": {
    "id": "c7lQpzh6qMWl",
    "colab": {
     "base_uri": "https://localhost:8080/",
     "height": 265
    },
    "outputId": "d1bd676b-5525-4660-9cc2-53bef55c69af"
   },
   "execution_count": 5,
   "outputs": [
    {
     "output_type": "display_data",
     "data": {
      "text/plain": [
       "<Figure size 432x288 with 1 Axes>"
      ],
      "image/png": "[encoded data removed]"
     },
     "metadata": {
      "needs_background": "light"
     }
    }
   ]
  }
 ]
}