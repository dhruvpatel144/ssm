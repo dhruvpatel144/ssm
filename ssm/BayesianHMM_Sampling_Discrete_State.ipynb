{
  "nbformat": 4,
  "nbformat_minor": 0,
  "metadata": {
    "colab": {
      "name": "BayesianHMM_Sampling_Discrete_State.ipynb",
      "provenance": [],
      "collapsed_sections": []
    },
    "kernelspec": {
      "name": "python3",
      "display_name": "Python 3"
    },
    "language_info": {
      "name": "python"
    }
  },
  "cells": [
    {
      "cell_type": "code",
      "execution_count": null,
      "metadata": {
        "id": "9jHiGxb1MUrM"
      },
      "outputs": [],
      "source": [
        "try:\n",
        "  import jax\n",
        "except:\n",
        "  %pip install -qq jax\n",
        "  import jax\n",
        "\n",
        "try:\n",
        "  import distrax\n",
        "except:\n",
        "  %pip install -qq distrax\n",
        "  import distrax\n",
        "\n",
        "try:\n",
        "  import matplotlib.pyplot as plt\n",
        "except:\n",
        "  %pip install -qq matplotlib.pyplot\n",
        "  import matplotlib.pyplot as plt"
      ]
    },
    {
      "cell_type": "code",
      "source": [
        "l = 10  # length of chain\n",
        "n = 1  # number of samples\n",
        "k = 3  # number of states in sample\n",
        "p = 3  # possible outcomes\n",
        "pi = jax.numpy.array([0.5, 0.3, 0.2])  # prior matrix of k\n",
        "A = jax.numpy.array(\n",
        "    [[0.5, 0.4, 0.1], [0.1, 0.8, 0.1], [0.4, 0.3, 0.3]]\n",
        ")  # transition matrix of k*k\n",
        "B = jax.numpy.array(\n",
        "    [[0.5, 0.25, 0.25], [0.1, 0.8, 0.1], [0.1, 0.1, 0.8]]\n",
        ")  # emission matrix of k*p\n"
      ],
      "metadata": {
        "id": "VmnLggYSMb_8"
      },
      "execution_count": null,
      "outputs": []
    },
    {
      "cell_type": "code",
      "source": [
        "def state(t):\n",
        "    result = []\n",
        "    for i in range(k):\n",
        "        sum = 0\n",
        "        for j in range(k):\n",
        "            sum += t[j] * A[j][i]\n",
        "        result.append(sum)\n",
        "    return result\n",
        "\n",
        "\n",
        "def out(st):\n",
        "    result = []\n",
        "    for i in range(k):\n",
        "        sum = 0\n",
        "        for j in range(k):\n",
        "            sum += st[j] * B[j][i]\n",
        "        result.append(sum)\n",
        "    return result\n"
      ],
      "metadata": {
        "id": "2rf0jlc4MfsC"
      },
      "execution_count": 3,
      "outputs": []
    },
    {
      "cell_type": "code",
      "source": [
        "for i in range(n):\n",
        "    sample = []\n",
        "    outcome = []\n",
        "    z1 = pi\n",
        "    sample.append(z1)\n",
        "    otc = out(z1)\n",
        "    outcome.append(otc)\n",
        "    zi = z1\n",
        "    for j in range(l - 1):\n",
        "        zi_1 = state(zi)\n",
        "        sample.append(zi_1)\n",
        "        otc = out(zi_1)\n",
        "        outcome.append(otc)\n",
        "        zi = zi_1\n",
        "\n",
        "    print(sample)\n",
        "    print(outcome)\n"
      ],
      "metadata": {
        "colab": {
          "base_uri": "https://localhost:8080/"
        },
        "id": "TkqXeSq6MmXc",
        "outputId": "db9afd39-a078-4669-8faf-4b398c03355b"
      },
      "execution_count": 4,
      "outputs": [
        {
          "output_type": "stream",
          "name": "stdout",
          "text": [
            "[DeviceArray([0.5, 0.3, 0.2], dtype=float32), [DeviceArray(0.36, dtype=float32), DeviceArray(0.5, dtype=float32), DeviceArray(0.14, dtype=float32)], [DeviceArray(0.286, dtype=float32), DeviceArray(0.586, dtype=float32), DeviceArray(0.128, dtype=float32)], [DeviceArray(0.25280002, dtype=float32), DeviceArray(0.62160003, dtype=float32), DeviceArray(0.12560001, dtype=float32)], [DeviceArray(0.23880002, dtype=float32), DeviceArray(0.6360801, dtype=float32), DeviceArray(0.12512001, dtype=float32)], [DeviceArray(0.23305602, dtype=float32), DeviceArray(0.64192015, dtype=float32), DeviceArray(0.12502402, dtype=float32)], [DeviceArray(0.23072964, dtype=float32), DeviceArray(0.6442658, dtype=float32), DeviceArray(0.12500483, dtype=float32)], [DeviceArray(0.22979333, dtype=float32), DeviceArray(0.6452059, dtype=float32), DeviceArray(0.125001, dtype=float32)], [DeviceArray(0.22941765, dtype=float32), DeviceArray(0.6455824, dtype=float32), DeviceArray(0.12500022, dtype=float32)], [DeviceArray(0.22926715, dtype=float32), DeviceArray(0.64573306, dtype=float32), DeviceArray(0.12500007, dtype=float32)]]\n",
            "[[DeviceArray(0.3, dtype=float32), DeviceArray(0.38500002, dtype=float32), DeviceArray(0.315, dtype=float32)], [DeviceArray(0.244, dtype=float32), DeviceArray(0.504, dtype=float32), DeviceArray(0.252, dtype=float32)], [DeviceArray(0.21440002, dtype=float32), DeviceArray(0.5531, dtype=float32), DeviceArray(0.23250002, dtype=float32)], [DeviceArray(0.20112, dtype=float32), DeviceArray(0.57304007, dtype=float32), DeviceArray(0.22584003, dtype=float32)], [DeviceArray(0.19552001, dtype=float32), DeviceArray(0.58107615, dtype=float32), DeviceArray(0.22340402, dtype=float32)], [DeviceArray(0.19322243, dtype=float32), DeviceArray(0.58430254, dtype=float32), DeviceArray(0.22247525, dtype=float32)], [DeviceArray(0.19229187, dtype=float32), DeviceArray(0.5855955, dtype=float32), DeviceArray(0.22211285, dtype=float32)], [DeviceArray(0.19191736, dtype=float32), DeviceArray(0.58611315, dtype=float32), DeviceArray(0.22196972, dtype=float32)], [DeviceArray(0.19176708, dtype=float32), DeviceArray(0.58632034, dtype=float32), DeviceArray(0.22191283, dtype=float32)], [DeviceArray(0.19170688, dtype=float32), DeviceArray(0.58640325, dtype=float32), DeviceArray(0.22189015, dtype=float32)]]\n"
          ]
        }
      ]
    },
    {
      "cell_type": "code",
      "source": [
        "for i in range(l):\n",
        "    s = 0\n",
        "    for j in range(k):\n",
        "        plt.bar(i, sample[i][j], bottom=s, color=\"C\" + str(j))\n",
        "        s += sample[i][j]\n",
        "plt.show()\n",
        "\n",
        "for i in range(l):\n",
        "    s = 0\n",
        "    for j in range(p):\n",
        "        plt.bar(i, outcome[i][j], bottom=s, color=\"C\" + str(j))\n",
        "        s += outcome[i][j]\n"
      ],
      "metadata": {
        "colab": {
          "base_uri": "https://localhost:8080/",
          "height": 513
        },
        "id": "SY0Z3fShMpEd",
        "outputId": "cf35dea1-b4e3-4976-a98d-49e8d1cd9b20"
      },
      "execution_count": 5,
      "outputs": [
        {
          "output_type": "display_data",
          "data": {
            "text/plain": [
              "<Figure size 432x288 with 1 Axes>"
            ],
            "image/png": "[encoded data removed]"
          },
          "metadata": {
            "needs_background": "light"
          }
        },
        {
          "output_type": "display_data",
          "data": {
            "text/plain": [
              "<Figure size 432x288 with 1 Axes>"
            ],
            "image/png": "[encoded data removed]"
          },
          "metadata": {
            "needs_background": "light"
          }
        }
      ]
    }
  ]
}